{
 "cells": [
  {
   "cell_type": "markdown",
   "id": "fcea3f93-cf35-4f96-93ef-1d2443e60b6a",
   "metadata": {},
   "source": [
    "## Intro to R Notebooks\n",
    "\n",
    "Let's explore the R notebook environment! The workflow will be as follows:\n",
    "\n",
    "1. Import R packages\n",
    "2. Install R packages\n",
    "3. Connect to a portal\n",
    "4. Write the data out locally"
   ]
  },
  {
   "cell_type": "markdown",
   "id": "e963f437-492f-4910-b153-c1a6a35d4afb",
   "metadata": {},
   "source": [
    "#### Import packages"
   ]
  },
  {
   "cell_type": "code",
   "execution_count": 1,
   "id": "757f7539-8841-4cfd-8427-3d33c3976752",
   "metadata": {},
   "outputs": [
    {
     "name": "stderr",
     "output_type": "stream",
     "text": [
      "*** Please call arc.check_product() to define a desktop license.\n"
     ]
    }
   ],
   "source": [
    "library(arcgisbinding)"
   ]
  },
  {
   "cell_type": "code",
   "execution_count": 2,
   "id": "866b6b4c-2b3b-4964-95aa-9a9347bb4d38",
   "metadata": {},
   "outputs": [
    {
     "data": {
      "text/html": [
       "<pre><b>product:</b> ArcGIS Pro (13.1.0.41833)\n",
       "<b>license:</b> Advanced\n",
       "<b>version:</b> 1.0.1.300</pre>"
      ],
      "text/latex": [
       "\\begin{description}\n",
       "\\item[\\$license] 'Advanced'\n",
       "\\item[\\$version] '13.1.0.41833'\n",
       "\\item[\\$path] 'C:\\textbackslash{}\\textbackslash{}Program Files\\textbackslash{}\\textbackslash{}ArcGIS\\textbackslash{}\\textbackslash{}Pro\\textbackslash{}\\textbackslash{}'\n",
       "\\item[\\$dll] 'rarcproxy\\_pro'\n",
       "\\item[\\$app] 'ArcGIS Pro'\n",
       "\\item[\\$pkg\\_ver] '1.0.1.300'\n",
       "\\end{description}\n"
      ],
      "text/markdown": [
       "$license\n",
       ":   'Advanced'\n",
       "$version\n",
       ":   '13.1.0.41833'\n",
       "$path\n",
       ":   'C:\\\\Program Files\\\\ArcGIS\\\\Pro\\\\'\n",
       "$dll\n",
       ":   'rarcproxy_pro'\n",
       "$app\n",
       ":   'ArcGIS Pro'\n",
       "$pkg_ver\n",
       ":   '1.0.1.300'\n",
       "\n",
       "\n"
      ],
      "text/plain": [
       "product: ArcGIS Pro (13.1.0.41833)\n",
       "license: Advanced\n",
       "version: 1.0.1.300 "
      ]
     },
     "metadata": {},
     "output_type": "display_data"
    }
   ],
   "source": [
    "arc.check_product()"
   ]
  },
  {
   "cell_type": "markdown",
   "id": "bcd7835c-c0da-42a0-8843-4c546db21169",
   "metadata": {},
   "source": [
    "#### Install packages"
   ]
  },
  {
   "cell_type": "code",
   "execution_count": 3,
   "id": "8df1f86f-3daa-4cb8-bee7-33388ceb7fa6",
   "metadata": {},
   "outputs": [
    {
     "data": {
      "text/plain": [
       "               _                           \n",
       "platform       x86_64-w64-mingw32          \n",
       "arch           x86_64                      \n",
       "os             mingw32                     \n",
       "system         x86_64, mingw32             \n",
       "status                                     \n",
       "major          3                           \n",
       "minor          5.1                         \n",
       "year           2018                        \n",
       "month          07                          \n",
       "day            02                          \n",
       "svn rev        74947                       \n",
       "language       R                           \n",
       "version.string R version 3.5.1 (2018-07-02)\n",
       "nickname       Feather Spray               "
      ]
     },
     "metadata": {},
     "output_type": "display_data"
    }
   ],
   "source": [
    "R.version"
   ]
  },
  {
   "cell_type": "code",
   "execution_count": 4,
   "id": "6d76d6ea-3c5a-4f6e-b22b-f74a5fff077f",
   "metadata": {
    "tags": []
   },
   "outputs": [
    {
     "name": "stderr",
     "output_type": "stream",
     "text": [
      "installing the source package 'palmerpenguins'\n",
      "\n"
     ]
    }
   ],
   "source": [
    "install.packages(\"palmerpenguins\", repos='http://cran.us.r-project.org')"
   ]
  },
  {
   "cell_type": "code",
   "execution_count": 5,
   "id": "902f2e61-8119-4fc5-90db-9423f9949392",
   "metadata": {},
   "outputs": [],
   "source": [
    "library(palmerpenguins)"
   ]
  },
  {
   "cell_type": "code",
   "execution_count": 6,
   "id": "09d2fa3f-6e77-4573-94b6-422d16cf41a9",
   "metadata": {},
   "outputs": [
    {
     "data": {
      "text/html": [
       "<table>\n",
       "<thead><tr><th scope=col>species</th><th scope=col>island</th><th scope=col>bill_length_mm</th><th scope=col>bill_depth_mm</th><th scope=col>flipper_length_mm</th><th scope=col>body_mass_g</th><th scope=col>sex</th><th scope=col>year</th></tr></thead>\n",
       "<tbody>\n",
       "\t<tr><td>Adelie   </td><td>Torgersen</td><td>39.1     </td><td>18.7     </td><td>181      </td><td>3750     </td><td>male     </td><td>2007     </td></tr>\n",
       "\t<tr><td>Adelie   </td><td>Torgersen</td><td>39.5     </td><td>17.4     </td><td>186      </td><td>3800     </td><td>female   </td><td>2007     </td></tr>\n",
       "\t<tr><td>Adelie   </td><td>Torgersen</td><td>40.3     </td><td>18.0     </td><td>195      </td><td>3250     </td><td>female   </td><td>2007     </td></tr>\n",
       "\t<tr><td>Adelie   </td><td>Torgersen</td><td>  NA     </td><td>  NA     </td><td> NA      </td><td>  NA     </td><td>NA       </td><td>2007     </td></tr>\n",
       "\t<tr><td>Adelie   </td><td>Torgersen</td><td>36.7     </td><td>19.3     </td><td>193      </td><td>3450     </td><td>female   </td><td>2007     </td></tr>\n",
       "\t<tr><td>Adelie   </td><td>Torgersen</td><td>39.3     </td><td>20.6     </td><td>190      </td><td>3650     </td><td>male     </td><td>2007     </td></tr>\n",
       "</tbody>\n",
       "</table>\n"
      ],
      "text/latex": [
       "\\begin{tabular}{r|llllllll}\n",
       " species & island & bill\\_length\\_mm & bill\\_depth\\_mm & flipper\\_length\\_mm & body\\_mass\\_g & sex & year\\\\\n",
       "\\hline\n",
       "\t Adelie    & Torgersen & 39.1      & 18.7      & 181       & 3750      & male      & 2007     \\\\\n",
       "\t Adelie    & Torgersen & 39.5      & 17.4      & 186       & 3800      & female    & 2007     \\\\\n",
       "\t Adelie    & Torgersen & 40.3      & 18.0      & 195       & 3250      & female    & 2007     \\\\\n",
       "\t Adelie    & Torgersen &   NA      &   NA      &  NA       &   NA      & NA        & 2007     \\\\\n",
       "\t Adelie    & Torgersen & 36.7      & 19.3      & 193       & 3450      & female    & 2007     \\\\\n",
       "\t Adelie    & Torgersen & 39.3      & 20.6      & 190       & 3650      & male      & 2007     \\\\\n",
       "\\end{tabular}\n"
      ],
      "text/markdown": [
       "\n",
       "species | island | bill_length_mm | bill_depth_mm | flipper_length_mm | body_mass_g | sex | year | \n",
       "|---|---|---|---|---|---|\n",
       "| Adelie    | Torgersen | 39.1      | 18.7      | 181       | 3750      | male      | 2007      | \n",
       "| Adelie    | Torgersen | 39.5      | 17.4      | 186       | 3800      | female    | 2007      | \n",
       "| Adelie    | Torgersen | 40.3      | 18.0      | 195       | 3250      | female    | 2007      | \n",
       "| Adelie    | Torgersen |   NA      |   NA      |  NA       |   NA      | NA        | 2007      | \n",
       "| Adelie    | Torgersen | 36.7      | 19.3      | 193       | 3450      | female    | 2007      | \n",
       "| Adelie    | Torgersen | 39.3      | 20.6      | 190       | 3650      | male      | 2007      | \n",
       "\n",
       "\n"
      ],
      "text/plain": [
       "  species island    bill_length_mm bill_depth_mm flipper_length_mm body_mass_g\n",
       "1 Adelie  Torgersen 39.1           18.7          181               3750       \n",
       "2 Adelie  Torgersen 39.5           17.4          186               3800       \n",
       "3 Adelie  Torgersen 40.3           18.0          195               3250       \n",
       "4 Adelie  Torgersen   NA             NA           NA                 NA       \n",
       "5 Adelie  Torgersen 36.7           19.3          193               3450       \n",
       "6 Adelie  Torgersen 39.3           20.6          190               3650       \n",
       "  sex    year\n",
       "1 male   2007\n",
       "2 female 2007\n",
       "3 female 2007\n",
       "4 NA     2007\n",
       "5 female 2007\n",
       "6 male   2007"
      ]
     },
     "metadata": {},
     "output_type": "display_data"
    }
   ],
   "source": [
    "head(penguins)"
   ]
  },
  {
   "cell_type": "code",
   "execution_count": 7,
   "id": "a926b365-1508-450d-a602-17878ebfab33",
   "metadata": {},
   "outputs": [
    {
     "data": {
      "image/png": "[encoded data removed]",
      "text/plain": [
       "plot without title"
      ]
     },
     "metadata": {},
     "output_type": "display_data"
    }
   ],
   "source": [
    "plot(penguins$flipper_length_mm,penguins$body_mass_g,pch=16,col=c(\"coral\",\"aquamarine3\",\"blueviolet\")[penguins$species])\n",
    "legend(x=\"topleft\", legend = levels(penguins$species), col=c(\"coral\",\"aquamarine3\",\"blueviolet\"), pch=16)"
   ]
  },
  {
   "cell_type": "code",
   "execution_count": 8,
   "id": "0a16f3d5-ee62-4c61-b48e-57a0334eac71",
   "metadata": {},
   "outputs": [
    {
     "data": {
      "text/plain": [
       "\n",
       "To cite palmerpenguins in publications use:\n",
       "\n",
       "  Horst AM, Hill AP, Gorman KB (2020). palmerpenguins: Palmer\n",
       "  Archipelago (Antarctica) penguin data. R package version 0.1.0.\n",
       "  https://allisonhorst.github.io/palmerpenguins/. doi:\n",
       "  10.5281/zenodo.3960218.\n",
       "\n",
       "A BibTeX entry for LaTeX users is\n",
       "\n",
       "  @Manual{,\n",
       "    title = {palmerpenguins: Palmer Archipelago (Antarctica) penguin data},\n",
       "    author = {Allison Marie Horst and Alison Presmanes Hill and Kristen B Gorman},\n",
       "    year = {2020},\n",
       "    note = {R package version 0.1.0},\n",
       "    doi = {10.5281/zenodo.3960218},\n",
       "    url = {https://allisonhorst.github.io/palmerpenguins/},\n",
       "  }\n"
      ]
     },
     "metadata": {},
     "output_type": "display_data"
    }
   ],
   "source": [
    "citation(\"palmerpenguins\")"
   ]
  },
  {
   "cell_type": "markdown",
   "id": "6cdec7a2-cb4e-49a2-af6c-e60a46766725",
   "metadata": {},
   "source": [
    "#### Connect to a portal"
   ]
  },
  {
   "cell_type": "code",
   "execution_count": 9,
   "id": "97c8a9db-4eb9-4941-b269-1a18429f4202",
   "metadata": {
    "tags": []
   },
   "outputs": [
    {
     "data": {
      "text/html": [
       "\n",
       "<table width=\"100%\" summary=\"page for Enterprise and Online portals {arcgisbinding}\"><tr><td>Enterprise and Online portals {arcgisbinding}</td><td style=\"text-align: right;\">R Documentation</td></tr></table>\n",
       "\n",
       "<h2>ArcGIS Enterprise and Online portals</h2>\n",
       "\n",
       "<h3>Description</h3>\n",
       "\n",
       "<p>The <code>arc.portal_connect()</code> function to sign in to a portal. To check available portals call <code>arc.check_portal()</code>.\n",
       "Functions returns a list that contains active info and available portals.\n",
       "</p>\n",
       "\n",
       "\n",
       "<h3>Usage</h3>\n",
       "\n",
       "<pre>\n",
       "  arc.portal_connect(url, user, password)\n",
       "  arc.check_portal()\n",
       "</pre>\n",
       "\n",
       "\n",
       "<h3>Arguments</h3>\n",
       "\n",
       "<table summary=\"R argblock\">\n",
       "<tr valign=\"top\"><td><code>url</code></td>\n",
       "<td>\n",
       "<p>The URL of the portal to be signed in to. (character) </p>\n",
       "</td></tr>\n",
       "<tr valign=\"top\"><td><code>user</code></td>\n",
       "<td>\n",
       "<p>The user name of the user signing in to the portal. (character) </p>\n",
       "</td></tr>\n",
       "<tr valign=\"top\"><td><code>password</code></td>\n",
       "<td>\n",
       "<p>The password of the user signing in to the portal. (character) </p>\n",
       "</td></tr>\n",
       "</table>\n",
       "\n",
       "\n",
       "<h3>Details</h3>\n",
       "\n",
       "<p>If <code>url</code> already in active list of portals connections then <code>user</code> and <code>password</code> parameters are optional\n",
       "</p>\n",
       "\n",
       "\n",
       "<h3>Value</h3>\n",
       "\n",
       "<p>An named list of portal connections.\n",
       "</p>\n",
       "\n",
       "<ul>\n",
       "<li><p> url - The URL of the current portal.\n",
       "</p>\n",
       "</li>\n",
       "<li><p> user - The user name.\n",
       "</p>\n",
       "</li>\n",
       "<li><p> version - The portal version.\n",
       "</p>\n",
       "</li>\n",
       "<li><p> organization - The organization name.\n",
       "</p>\n",
       "</li>\n",
       "<li><p> session - TODO.\n",
       "</p>\n",
       "</li>\n",
       "<li><p> token - This is the Enterprise token for built-in logins.\n",
       "</p>\n",
       "</li>\n",
       "<li><p> portals - <code>list</code> of active portals.\n",
       "</p>\n",
       "</li>\n",
       "<li><p> offlines - <code>list</code> of offline portals.\n",
       "</p>\n",
       "</li></ul>\n",
       "\n",
       "\n",
       "<hr /><div style=\"text-align: center;\">[Package <em>arcgisbinding</em> version 1.0.1.300 ]</div>"
      ],
      "text/latex": [
       "\\inputencoding{utf8}\n",
       "\\HeaderA{Enterprise and Online portals}{ArcGIS Enterprise and Online portals}{Enterprise and Online portals}\n",
       "\\aliasA{arc.check\\_portal}{Enterprise and Online portals}{arc.check.Rul.portal}\n",
       "\\aliasA{arc.portal\\_connect}{Enterprise and Online portals}{arc.portal.Rul.connect}\n",
       "\\keyword{method}{Enterprise and Online portals}\n",
       "\\keyword{portal}{Enterprise and Online portals}\n",
       "%\n",
       "\\begin{Description}\\relax\n",
       "The \\code{arc.portal\\_connect()} function to sign in to a portal. To check available portals call \\code{arc.check\\_portal()}.\n",
       "Functions returns a list that contains active info and available portals.\n",
       "\\end{Description}\n",
       "%\n",
       "\\begin{Usage}\n",
       "\\begin{verbatim}\n",
       "  arc.portal_connect(url, user, password)\n",
       "  arc.check_portal()\n",
       "\\end{verbatim}\n",
       "\\end{Usage}\n",
       "%\n",
       "\\begin{Arguments}\n",
       "\\begin{ldescription}\n",
       "\\item[\\code{url}] The URL of the portal to be signed in to. (character) \n",
       "\\item[\\code{user}] The user name of the user signing in to the portal. (character) \n",
       "\\item[\\code{password}] The password of the user signing in to the portal. (character) \n",
       "\\end{ldescription}\n",
       "\\end{Arguments}\n",
       "%\n",
       "\\begin{Details}\\relax\n",
       "If \\code{url} already in active list of portals connections then \\code{user} and \\code{password} parameters are optional\n",
       "\\end{Details}\n",
       "%\n",
       "\\begin{Value}\n",
       "An named list of portal connections.\n",
       "\\begin{itemize}\n",
       "\n",
       "\\item url - The URL of the current portal.\n",
       "\\item user - The user name.\n",
       "\\item version - The portal version.\n",
       "\\item organization - The organization name.\n",
       "\\item session - TODO.\n",
       "\\item token - This is the Enterprise token for built-in logins.\n",
       "\\item portals - \\code{list} of active portals.\n",
       "\\item offlines - \\code{list} of offline portals.\n",
       "\n",
       "\\end{itemize}\n",
       "\n",
       "\\end{Value}"
      ],
      "text/plain": [
       "Enterprise and Online portals  package:arcgisbinding   R Documentation\n",
       "\n",
       "_\bA_\br_\bc_\bG_\bI_\bS _\bE_\bn_\bt_\be_\br_\bp_\br_\bi_\bs_\be _\ba_\bn_\bd _\bO_\bn_\bl_\bi_\bn_\be _\bp_\bo_\br_\bt_\ba_\bl_\bs\n",
       "\n",
       "_\bD_\be_\bs_\bc_\br_\bi_\bp_\bt_\bi_\bo_\bn:\n",
       "\n",
       "     The 'arc.portal_connect()' function to sign in to a portal. To\n",
       "     check available portals call 'arc.check_portal()'. Functions\n",
       "     returns a list that contains active info and available portals.\n",
       "\n",
       "_\bU_\bs_\ba_\bg_\be:\n",
       "\n",
       "       arc.portal_connect(url, user, password)\n",
       "       arc.check_portal()\n",
       "     \n",
       "_\bA_\br_\bg_\bu_\bm_\be_\bn_\bt_\bs:\n",
       "\n",
       "     url: The URL of the portal to be signed in to. (character)\n",
       "\n",
       "    user: The user name of the user signing in to the portal.\n",
       "          (character)\n",
       "\n",
       "password: The password of the user signing in to the portal.\n",
       "          (character)\n",
       "\n",
       "_\bD_\be_\bt_\ba_\bi_\bl_\bs:\n",
       "\n",
       "     If 'url' already in active list of portals connections then 'user'\n",
       "     and 'password' parameters are optional\n",
       "\n",
       "_\bV_\ba_\bl_\bu_\be:\n",
       "\n",
       "     An named list of portal connections.\n",
       "\n",
       "        â€¢ url - The URL of the current portal.\n",
       "\n",
       "        â€¢ user - The user name.\n",
       "\n",
       "        â€¢ version - The portal version.\n",
       "\n",
       "        â€¢ organization - The organization name.\n",
       "\n",
       "        â€¢ session - TODO.\n",
       "\n",
       "        â€¢ token - This is the Enterprise token for built-in logins.\n",
       "\n",
       "        â€¢ portals - 'list' of active portals.\n",
       "\n",
       "        â€¢ offlines - 'list' of offline portals.\n"
      ]
     },
     "metadata": {},
     "output_type": "display_data"
    }
   ],
   "source": [
    "?arc.check_portal()"
   ]
  },
  {
   "cell_type": "code",
   "execution_count": 10,
   "id": "6dec8bac-d378-419f-b962-c07bfb3b60a8",
   "metadata": {},
   "outputs": [
    {
     "data": {
      "text/html": [
       "<pre><b>Current</b>\n",
       "  Not signed in\n",
       "<b>Available</b> (signed in)\n",
       "  'https://dev0015021.esri.com/portal/'\n",
       "<b>Not signed in</b>\n",
       "  'https://gpportal.esri.com/portal/'\n",
       "  'https://prof-services.maps.arcgis.com/'\n",
       "  'https://www.arcgis.com/'</pre>"
      ],
      "text/latex": [
       "\\begin{description}\n",
       "\\item[\\$portals] 'https://dev0015021.esri.com/portal/'\n",
       "\\item[\\$offlines] \\begin{enumerate*}\n",
       "\\item 'https://gpportal.esri.com/portal/'\n",
       "\\item 'https://prof-services.maps.arcgis.com/'\n",
       "\\item 'https://www.arcgis.com/'\n",
       "\\end{enumerate*}\n",
       "\n",
       "\\end{description}\n"
      ],
      "text/markdown": [
       "$portals\n",
       ":   'https://dev0015021.esri.com/portal/'\n",
       "$offlines\n",
       ":   1. 'https://gpportal.esri.com/portal/'\n",
       "2. 'https://prof-services.maps.arcgis.com/'\n",
       "3. 'https://www.arcgis.com/'\n",
       "\n",
       "\n",
       "\n",
       "\n",
       "\n"
      ],
      "text/plain": [
       "*** Current\n",
       "  Not signed in\n",
       "*** Available (signed in)\n",
       "  'https://dev0015021.esri.com/portal/'\n",
       "*** Not signed in\n",
       "  'https://gpportal.esri.com/portal/'\n",
       "  'https://prof-services.maps.arcgis.com/'\n",
       "  'https://www.arcgis.com/' "
      ]
     },
     "metadata": {},
     "output_type": "display_data"
    }
   ],
   "source": [
    "arc.check_portal()"
   ]
  },
  {
   "cell_type": "code",
   "execution_count": 11,
   "id": "34019057-4340-4582-9d1c-2d353d288315",
   "metadata": {},
   "outputs": [
    {
     "data": {
      "text/html": [
       "<pre><b>Current</b>\n",
       "  url\t\t: https://www.arcgis.com/\n",
       "  version\t: 2023.1\n",
       "  user\t\t: mbass_ANGP\n",
       "  organization\t: GP Analysis - Prod Hive 1\n",
       "<b>Available</b> (signed in)\n",
       "  'https://dev0015021.esri.com/portal/'\n",
       "<b>Not signed in</b>\n",
       "  'https://gpportal.esri.com/portal/'\n",
       "  'https://prof-services.maps.arcgis.com/'</pre>"
      ],
      "text/latex": [
       "\\begin{description}\n",
       "\\item[\\$url] 'https://www.arcgis.com/'\n",
       "\\item[\\$version] '2023.1'\n",
       "\\item[\\$token] 'Mc4GbNqZnvBfDakVz2Sxwr1gghAbQfN6fVhLyToI3SfM1i7O03F3DkmOkIfQegXduL8rTMCukSd6FRZ5biEODLM4zZIW2lrzJNBaNJSkhiWCxM9zcyeHRnvNoikXe9sS0b1VSYgjja2XyU4oRE2iyTyCmQvo02Ekj4lFfkYmbnXqpuMvL7mQyRmIijoZLF2aKIhzpoI0lzW\\_\\_Edlmlp2bBiVi0g5kJPVwep5s70xVTI.'\n",
       "\\item[\\$user] 'mbass\\_ANGP'\n",
       "\\item[\\$session] 'ArcGISPro\\_125'\n",
       "\\item[\\$organization] 'GP Analysis - Prod Hive 1'\n",
       "\\item[\\$portals] 'https://dev0015021.esri.com/portal/'\n",
       "\\item[\\$offlines] \\begin{enumerate*}\n",
       "\\item 'https://gpportal.esri.com/portal/'\n",
       "\\item 'https://prof-services.maps.arcgis.com/'\n",
       "\\end{enumerate*}\n",
       "\n",
       "\\end{description}\n"
      ],
      "text/markdown": [
       "$url\n",
       ":   'https://www.arcgis.com/'\n",
       "$version\n",
       ":   '2023.1'\n",
       "$token\n",
       ":   'Mc4GbNqZnvBfDakVz2Sxwr1gghAbQfN6fVhLyToI3SfM1i7O03F3DkmOkIfQegXduL8rTMCukSd6FRZ5biEODLM4zZIW2lrzJNBaNJSkhiWCxM9zcyeHRnvNoikXe9sS0b1VSYgjja2XyU4oRE2iyTyCmQvo02Ekj4lFfkYmbnXqpuMvL7mQyRmIijoZLF2aKIhzpoI0lzW__Edlmlp2bBiVi0g5kJPVwep5s70xVTI.'\n",
       "$user\n",
       ":   'mbass_ANGP'\n",
       "$session\n",
       ":   'ArcGISPro_125'\n",
       "$organization\n",
       ":   'GP Analysis - Prod Hive 1'\n",
       "$portals\n",
       ":   'https://dev0015021.esri.com/portal/'\n",
       "$offlines\n",
       ":   1. 'https://gpportal.esri.com/portal/'\n",
       "2. 'https://prof-services.maps.arcgis.com/'\n",
       "\n",
       "\n",
       "\n",
       "\n",
       "\n"
      ],
      "text/plain": [
       "*** Current\n",
       "  url\t\t: https://www.arcgis.com/\n",
       "  version\t: 2023.1\n",
       "  user\t\t: mbass_ANGP\n",
       "  organization\t: GP Analysis - Prod Hive 1\n",
       "*** Available (signed in)\n",
       "  'https://dev0015021.esri.com/portal/'\n",
       "*** Not signed in\n",
       "  'https://gpportal.esri.com/portal/'\n",
       "  'https://prof-services.maps.arcgis.com/' "
      ]
     },
     "metadata": {},
     "output_type": "display_data"
    }
   ],
   "source": [
    "arc.portal_connect(\"https://www.arcgis.com/\", Sys.getenv(\"AGOL_USERNAME\"), Sys.getenv(\"AGOL_PASSWORD\"))"
   ]
  },
  {
   "cell_type": "markdown",
   "id": "416d3c86-199a-4b31-b13a-aa465d946d65",
   "metadata": {},
   "source": [
    "#### Explore the local file system"
   ]
  },
  {
   "cell_type": "code",
   "execution_count": 12,
   "id": "c4e02a69-7971-4221-a258-532282aab92a",
   "metadata": {},
   "outputs": [
    {
     "data": {
      "text/html": [
       "'c:/Data/DevSummit2023/notebooks'"
      ],
      "text/latex": [
       "'c:/Data/DevSummit2023/notebooks'"
      ],
      "text/markdown": [
       "'c:/Data/DevSummit2023/notebooks'"
      ],
      "text/plain": [
       "[1] \"c:/Data/DevSummit2023/notebooks\""
      ]
     },
     "metadata": {},
     "output_type": "display_data"
    }
   ],
   "source": [
    "getwd()"
   ]
  },
  {
   "cell_type": "code",
   "execution_count": 13,
   "id": "ebb9cc3e-c49c-485b-a884-25fd8776785f",
   "metadata": {},
   "outputs": [
    {
     "data": {
      "text/html": [
       "<ol class=list-inline>\n",
       "\t<li>'Metro_Bike.cpg'</li>\n",
       "\t<li>'Metro_Bike.dbf'</li>\n",
       "\t<li>'Metro_Bike.prj'</li>\n",
       "\t<li>'Metro_Bike.shp'</li>\n",
       "\t<li>'Metro_Bike.shp.ESRI-8NACLIGEYV.19964.19936.sr.lock'</li>\n",
       "\t<li>'Metro_Bike.shp.ESRI-8NACLIGEYV.20000.19936.sr.lock'</li>\n",
       "\t<li>'Metro_Bike.shp.ESRI-8NACLIGEYV.20184.19936.sr.lock'</li>\n",
       "\t<li>'Metro_Bike.shp.ESRI-8NACLIGEYV.4384.19936.sr.lock'</li>\n",
       "\t<li>'Metro_Bike.shx'</li>\n",
       "\t<li>'Metro_Bike_Share_Trip_Data.csv'</li>\n",
       "\t<li>'Metro_Bike_Share_Trip_Data_source.txt'</li>\n",
       "\t<li>'National_Forest_System_Trails_source.txt'</li>\n",
       "\t<li>'National_Forest_System_Trails_subset.cpg'</li>\n",
       "\t<li>'National_Forest_System_Trails_subset.dbf'</li>\n",
       "\t<li>'National_Forest_System_Trails_subset.prj'</li>\n",
       "\t<li>'National_Forest_System_Trails_subset.sbn'</li>\n",
       "\t<li>'National_Forest_System_Trails_subset.sbx'</li>\n",
       "\t<li>'National_Forest_System_Trails_subset.shp'</li>\n",
       "\t<li>'National_Forest_System_Trails_subset.shp.xml'</li>\n",
       "\t<li>'National_Forest_System_Trails_subset.shx'</li>\n",
       "</ol>\n"
      ],
      "text/latex": [
       "\\begin{enumerate*}\n",
       "\\item 'Metro\\_Bike.cpg'\n",
       "\\item 'Metro\\_Bike.dbf'\n",
       "\\item 'Metro\\_Bike.prj'\n",
       "\\item 'Metro\\_Bike.shp'\n",
       "\\item 'Metro\\_Bike.shp.ESRI-8NACLIGEYV.19964.19936.sr.lock'\n",
       "\\item 'Metro\\_Bike.shp.ESRI-8NACLIGEYV.20000.19936.sr.lock'\n",
       "\\item 'Metro\\_Bike.shp.ESRI-8NACLIGEYV.20184.19936.sr.lock'\n",
       "\\item 'Metro\\_Bike.shp.ESRI-8NACLIGEYV.4384.19936.sr.lock'\n",
       "\\item 'Metro\\_Bike.shx'\n",
       "\\item 'Metro\\_Bike\\_Share\\_Trip\\_Data.csv'\n",
       "\\item 'Metro\\_Bike\\_Share\\_Trip\\_Data\\_source.txt'\n",
       "\\item 'National\\_Forest\\_System\\_Trails\\_source.txt'\n",
       "\\item 'National\\_Forest\\_System\\_Trails\\_subset.cpg'\n",
       "\\item 'National\\_Forest\\_System\\_Trails\\_subset.dbf'\n",
       "\\item 'National\\_Forest\\_System\\_Trails\\_subset.prj'\n",
       "\\item 'National\\_Forest\\_System\\_Trails\\_subset.sbn'\n",
       "\\item 'National\\_Forest\\_System\\_Trails\\_subset.sbx'\n",
       "\\item 'National\\_Forest\\_System\\_Trails\\_subset.shp'\n",
       "\\item 'National\\_Forest\\_System\\_Trails\\_subset.shp.xml'\n",
       "\\item 'National\\_Forest\\_System\\_Trails\\_subset.shx'\n",
       "\\end{enumerate*}\n"
      ],
      "text/markdown": [
       "1. 'Metro_Bike.cpg'\n",
       "2. 'Metro_Bike.dbf'\n",
       "3. 'Metro_Bike.prj'\n",
       "4. 'Metro_Bike.shp'\n",
       "5. 'Metro_Bike.shp.ESRI-8NACLIGEYV.19964.19936.sr.lock'\n",
       "6. 'Metro_Bike.shp.ESRI-8NACLIGEYV.20000.19936.sr.lock'\n",
       "7. 'Metro_Bike.shp.ESRI-8NACLIGEYV.20184.19936.sr.lock'\n",
       "8. 'Metro_Bike.shp.ESRI-8NACLIGEYV.4384.19936.sr.lock'\n",
       "9. 'Metro_Bike.shx'\n",
       "10. 'Metro_Bike_Share_Trip_Data.csv'\n",
       "11. 'Metro_Bike_Share_Trip_Data_source.txt'\n",
       "12. 'National_Forest_System_Trails_source.txt'\n",
       "13. 'National_Forest_System_Trails_subset.cpg'\n",
       "14. 'National_Forest_System_Trails_subset.dbf'\n",
       "15. 'National_Forest_System_Trails_subset.prj'\n",
       "16. 'National_Forest_System_Trails_subset.sbn'\n",
       "17. 'National_Forest_System_Trails_subset.sbx'\n",
       "18. 'National_Forest_System_Trails_subset.shp'\n",
       "19. 'National_Forest_System_Trails_subset.shp.xml'\n",
       "20. 'National_Forest_System_Trails_subset.shx'\n",
       "\n",
       "\n"
      ],
      "text/plain": [
       " [1] \"Metro_Bike.cpg\"                                    \n",
       " [2] \"Metro_Bike.dbf\"                                    \n",
       " [3] \"Metro_Bike.prj\"                                    \n",
       " [4] \"Metro_Bike.shp\"                                    \n",
       " [5] \"Metro_Bike.shp.ESRI-8NACLIGEYV.19964.19936.sr.lock\"\n",
       " [6] \"Metro_Bike.shp.ESRI-8NACLIGEYV.20000.19936.sr.lock\"\n",
       " [7] \"Metro_Bike.shp.ESRI-8NACLIGEYV.20184.19936.sr.lock\"\n",
       " [8] \"Metro_Bike.shp.ESRI-8NACLIGEYV.4384.19936.sr.lock\" \n",
       " [9] \"Metro_Bike.shx\"                                    \n",
       "[10] \"Metro_Bike_Share_Trip_Data.csv\"                    \n",
       "[11] \"Metro_Bike_Share_Trip_Data_source.txt\"             \n",
       "[12] \"National_Forest_System_Trails_source.txt\"          \n",
       "[13] \"National_Forest_System_Trails_subset.cpg\"          \n",
       "[14] \"National_Forest_System_Trails_subset.dbf\"          \n",
       "[15] \"National_Forest_System_Trails_subset.prj\"          \n",
       "[16] \"National_Forest_System_Trails_subset.sbn\"          \n",
       "[17] \"National_Forest_System_Trails_subset.sbx\"          \n",
       "[18] \"National_Forest_System_Trails_subset.shp\"          \n",
       "[19] \"National_Forest_System_Trails_subset.shp.xml\"      \n",
       "[20] \"National_Forest_System_Trails_subset.shx\"          "
      ]
     },
     "metadata": {},
     "output_type": "display_data"
    }
   ],
   "source": [
    "list.files(path = \"nb_data\")"
   ]
  },
  {
   "cell_type": "code",
   "execution_count": 14,
   "id": "c6789321-d2c3-4caa-b066-1bf1ae108c37",
   "metadata": {},
   "outputs": [
    {
     "data": {
      "text/html": [
       "'https://data-usfs.hub.arcgis.com/datasets/usfs::national-forest-system-trails-feature-layer/about'"
      ],
      "text/latex": [
       "'https://data-usfs.hub.arcgis.com/datasets/usfs::national-forest-system-trails-feature-layer/about'"
      ],
      "text/markdown": [
       "'https://data-usfs.hub.arcgis.com/datasets/usfs::national-forest-system-trails-feature-layer/about'"
      ],
      "text/plain": [
       "[1] \"https://data-usfs.hub.arcgis.com/datasets/usfs::national-forest-system-trails-feature-layer/about\""
      ]
     },
     "metadata": {},
     "output_type": "display_data"
    }
   ],
   "source": [
    "readLines(\"nb_data/National_Forest_System_Trails_source.txt\")"
   ]
  },
  {
   "cell_type": "markdown",
   "id": "c03374c7-9311-46cd-8adf-8897636365cd",
   "metadata": {},
   "source": [
    "[USFS Data Source](https://data-usfs.hub.arcgis.com/datasets/usfs::national-forest-system-trails-feature-layer/about)"
   ]
  },
  {
   "cell_type": "markdown",
   "id": "c5f4a9bc-ce3e-4dd8-8c34-5383404a59ad",
   "metadata": {},
   "source": [
    "#### Read and display data"
   ]
  },
  {
   "cell_type": "code",
   "execution_count": 15,
   "id": "0ca8a629-2c40-4d54-8127-651d1a0bcfae",
   "metadata": {},
   "outputs": [
    {
     "data": {
      "text/html": [
       "<dl class=dl-horizontal>\n",
       "\t<dt>xmin</dt>\n",
       "\t\t<dd>-13166757</dd>\n",
       "\t<dt>ymin</dt>\n",
       "\t\t<dd>3849242.474</dd>\n",
       "\t<dt>xmax</dt>\n",
       "\t\t<dd>-12949559.9327</dd>\n",
       "\t<dt>ymax</dt>\n",
       "\t\t<dd>4092845.9178</dd>\n",
       "</dl>\n"
      ],
      "text/latex": [
       "\\begin{description*}\n",
       "\\item[xmin] -13166757\n",
       "\\item[ymin] 3849242.474\n",
       "\\item[xmax] -12949559.9327\n",
       "\\item[ymax] 4092845.9178\n",
       "\\end{description*}\n"
      ],
      "text/markdown": [
       "xmin\n",
       ":   -13166757ymin\n",
       ":   3849242.474xmax\n",
       ":   -12949559.9327ymax\n",
       ":   4092845.9178\n",
       "\n"
      ],
      "text/plain": [
       "     xmin      ymin      xmax      ymax \n",
       "-13166757   3849242 -12949560   4092846 "
      ]
     },
     "metadata": {},
     "output_type": "display_data"
    },
    {
     "data": {
      "text/html": [
       "<pre>geometry type   : Polyline\n",
       "WKT             : PROJCS[\"WGS_1984_Web_Mercator_Auxiliary_Sphere\",GEOGCS[\"GCS_...\n",
       "WKID            : 3857</pre>"
      ],
      "text/latex": [
       "\\begin{description}\n",
       "\\item[\\$type] 'Polyline'\n",
       "\\item[\\$hasZ] FALSE\n",
       "\\item[\\$hasM] FALSE\n",
       "\\item[\\$WKT] 'PROJCS{[}\"WGS\\_1984\\_Web\\_Mercator\\_Auxiliary\\_Sphere\",GEOGCS{[}\"GCS\\_WGS\\_1984\",DATUM{[}\"D\\_WGS\\_1984\",SPHEROID{[}\"WGS\\_1984\",6378137.0,298.257223563{]}{]},PRIMEM{[}\"Greenwich\",0.0{]},UNIT{[}\"Degree\",0.0174532925199433{]}{]},PROJECTION{[}\"Mercator\\_Auxiliary\\_Sphere\"{]},PARAMETER{[}\"False\\_Easting\",0.0{]},PARAMETER{[}\"False\\_Northing\",0.0{]},PARAMETER{[}\"Central\\_Meridian\",0.0{]},PARAMETER{[}\"Standard\\_Parallel\\_1\",0.0{]},PARAMETER{[}\"Auxiliary\\_Sphere\\_Type\",0.0{]},UNIT{[}\"Meter\",1.0{]}{]}'\n",
       "\\item[\\$WKID] 3857\n",
       "\\end{description}\n"
      ],
      "text/markdown": [
       "$type\n",
       ":   'Polyline'\n",
       "$hasZ\n",
       ":   FALSE\n",
       "$hasM\n",
       ":   FALSE\n",
       "$WKT\n",
       ":   'PROJCS[\"WGS_1984_Web_Mercator_Auxiliary_Sphere\",GEOGCS[\"GCS_WGS_1984\",DATUM[\"D_WGS_1984\",SPHEROID[\"WGS_1984\",6378137.0,298.257223563]],PRIMEM[\"Greenwich\",0.0],UNIT[\"Degree\",0.0174532925199433]],PROJECTION[\"Mercator_Auxiliary_Sphere\"],PARAMETER[\"False_Easting\",0.0],PARAMETER[\"False_Northing\",0.0],PARAMETER[\"Central_Meridian\",0.0],PARAMETER[\"Standard_Parallel_1\",0.0],PARAMETER[\"Auxiliary_Sphere_Type\",0.0],UNIT[\"Meter\",1.0]]'\n",
       "$WKID\n",
       ":   3857\n",
       "\n",
       "\n"
      ],
      "text/plain": [
       "geometry type   : Polyline\n",
       "WKT             : PROJCS[\"WGS_1984_Web_Mercator_Auxiliary_Sphere\",GEOGCS[\"GCS_...\n",
       "WKID            : 3857 "
      ]
     },
     "metadata": {},
     "output_type": "display_data"
    }
   ],
   "source": [
    "trails_arc <- arc.open(\"nb_data/National_Forest_System_Trails_subset.shp\")\n",
    "trails_arc@extent\n",
    "#trails_arc@fields\n",
    "trails_arc@shapeinfo"
   ]
  },
  {
   "cell_type": "markdown",
   "id": "510e232e-1adb-4e7f-bfc9-49340d511a38",
   "metadata": {},
   "source": [
    "#### Write data locally"
   ]
  },
  {
   "cell_type": "code",
   "execution_count": 16,
   "id": "3bd290f4-9fdc-4c00-a920-3bf12c049ab5",
   "metadata": {
    "tags": []
   },
   "outputs": [
    {
     "name": "stderr",
     "output_type": "stream",
     "text": [
      "Warning message:\n",
      "\"package 'sf' was built under R version 3.5.3\"Linking to GEOS 3.6.1, GDAL 2.2.3, PROJ 4.9.3\n"
     ]
    },
    {
     "data": {
      "text/html": [
       "<table>\n",
       "<thead><tr><th scope=col>Trip.ID</th><th scope=col>Duration</th><th scope=col>Start.Time</th><th scope=col>End.Time</th><th scope=col>Starting.Station.ID</th><th scope=col>Ending.Station.ID</th><th scope=col>Ending.Station.Latitude</th><th scope=col>Ending.Station.Longitude</th><th scope=col>Bike.ID</th><th scope=col>Plan.Duration</th><th scope=col>Trip.Route.Category</th><th scope=col>Passholder.Type</th><th scope=col>Starting.Lat.Long</th><th scope=col>Ending.Lat.Long</th><th scope=col>geometry</th></tr></thead>\n",
       "<tbody>\n",
       "\t<tr><td>23660990                  </td><td> 420                      </td><td>3/31/2017 23:45           </td><td>3/31/2017 23:52           </td><td>3082                      </td><td>3054                      </td><td>34.03922                  </td><td>-118.2365                 </td><td>5900                      </td><td> 0                        </td><td>One Way                   </td><td>Walk-up                   </td><td>                          </td><td>(34.039219, -118.236488)  </td><td>POINT (-118.2374 34.04652)</td></tr>\n",
       "\t<tr><td>23664826                  </td><td>1260                      </td><td>3/31/2017 23:45           </td><td>4/1/2017 0:06             </td><td>3078                      </td><td>3029                      </td><td>34.04885                  </td><td>-118.2464                 </td><td>6207                      </td><td> 0                        </td><td>One Way                   </td><td>Walk-up                   </td><td>                          </td><td>(34.048851, -118.246422)  </td><td>POINT (-118.2389 34.06428)</td></tr>\n",
       "\t<tr><td>23660991                  </td><td> 480                      </td><td>3/31/2017 23:44           </td><td>3/31/2017 23:52           </td><td>3082                      </td><td>3054                      </td><td>34.03922                  </td><td>-118.2365                 </td><td>6183                      </td><td> 0                        </td><td>One Way                   </td><td>Walk-up                   </td><td>                          </td><td>(34.039219, -118.236488)  </td><td>POINT (-118.2374 34.04652)</td></tr>\n",
       "\t<tr><td>23660992                  </td><td> 480                      </td><td>3/31/2017 23:44           </td><td>3/31/2017 23:52           </td><td>3055                      </td><td>3035                      </td><td>34.04840                  </td><td>-118.2609                 </td><td>6478                      </td><td> 0                        </td><td>One Way                   </td><td>Walk-up                   </td><td>                          </td><td>(34.048401, -118.260948)  </td><td>POINT (-118.2516 34.04416)</td></tr>\n",
       "\t<tr><td>23660993                  </td><td> 540                      </td><td>3/31/2017 23:43           </td><td>3/31/2017 23:52           </td><td>3055                      </td><td>3035                      </td><td>34.04840                  </td><td>-118.2609                 </td><td>5978                      </td><td> 0                        </td><td>One Way                   </td><td>Walk-up                   </td><td>                          </td><td>(34.048401, -118.260948)  </td><td>POINT (-118.2516 34.04416)</td></tr>\n",
       "\t<tr><td>23660994                  </td><td> 720                      </td><td>3/31/2017 23:41           </td><td>3/31/2017 23:53           </td><td>3055                      </td><td>3035                      </td><td>34.04840                  </td><td>-118.2609                 </td><td>6143                      </td><td>30                        </td><td>One Way                   </td><td>Monthly Pass              </td><td>                          </td><td>(34.048401, -118.260948)  </td><td>POINT (-118.2516 34.04416)</td></tr>\n",
       "</tbody>\n",
       "</table>\n"
      ],
      "text/latex": [
       "\\begin{tabular}{r|lllllllllllllll}\n",
       " Trip.ID & Duration & Start.Time & End.Time & Starting.Station.ID & Ending.Station.ID & Ending.Station.Latitude & Ending.Station.Longitude & Bike.ID & Plan.Duration & Trip.Route.Category & Passholder.Type & Starting.Lat.Long & Ending.Lat.Long & geometry\\\\\n",
       "\\hline\n",
       "\t 23660990                   &  420                       & 3/31/2017 23:45            & 3/31/2017 23:52            & 3082                       & 3054                       & 34.03922                   & -118.2365                  & 5900                       &  0                         & One Way                    & Walk-up                    &                            & (34.039219, -118.236488)   & POINT (-118.2374 34.04652)\\\\\n",
       "\t 23664826                   & 1260                       & 3/31/2017 23:45            & 4/1/2017 0:06              & 3078                       & 3029                       & 34.04885                   & -118.2464                  & 6207                       &  0                         & One Way                    & Walk-up                    &                            & (34.048851, -118.246422)   & POINT (-118.2389 34.06428)\\\\\n",
       "\t 23660991                   &  480                       & 3/31/2017 23:44            & 3/31/2017 23:52            & 3082                       & 3054                       & 34.03922                   & -118.2365                  & 6183                       &  0                         & One Way                    & Walk-up                    &                            & (34.039219, -118.236488)   & POINT (-118.2374 34.04652)\\\\\n",
       "\t 23660992                   &  480                       & 3/31/2017 23:44            & 3/31/2017 23:52            & 3055                       & 3035                       & 34.04840                   & -118.2609                  & 6478                       &  0                         & One Way                    & Walk-up                    &                            & (34.048401, -118.260948)   & POINT (-118.2516 34.04416)\\\\\n",
       "\t 23660993                   &  540                       & 3/31/2017 23:43            & 3/31/2017 23:52            & 3055                       & 3035                       & 34.04840                   & -118.2609                  & 5978                       &  0                         & One Way                    & Walk-up                    &                            & (34.048401, -118.260948)   & POINT (-118.2516 34.04416)\\\\\n",
       "\t 23660994                   &  720                       & 3/31/2017 23:41            & 3/31/2017 23:53            & 3055                       & 3035                       & 34.04840                   & -118.2609                  & 6143                       & 30                         & One Way                    & Monthly Pass               &                            & (34.048401, -118.260948)   & POINT (-118.2516 34.04416)\\\\\n",
       "\\end{tabular}\n"
      ],
      "text/markdown": [
       "\n",
       "Trip.ID | Duration | Start.Time | End.Time | Starting.Station.ID | Ending.Station.ID | Ending.Station.Latitude | Ending.Station.Longitude | Bike.ID | Plan.Duration | Trip.Route.Category | Passholder.Type | Starting.Lat.Long | Ending.Lat.Long | geometry | \n",
       "|---|---|---|---|---|---|\n",
       "| 23660990                   |  420                       | 3/31/2017 23:45            | 3/31/2017 23:52            | 3082                       | 3054                       | 34.03922                   | -118.2365                  | 5900                       |  0                         | One Way                    | Walk-up                    |                            | (34.039219, -118.236488)   | POINT (-118.2374 34.04652) | \n",
       "| 23664826                   | 1260                       | 3/31/2017 23:45            | 4/1/2017 0:06              | 3078                       | 3029                       | 34.04885                   | -118.2464                  | 6207                       |  0                         | One Way                    | Walk-up                    |                            | (34.048851, -118.246422)   | POINT (-118.2389 34.06428) | \n",
       "| 23660991                   |  480                       | 3/31/2017 23:44            | 3/31/2017 23:52            | 3082                       | 3054                       | 34.03922                   | -118.2365                  | 6183                       |  0                         | One Way                    | Walk-up                    |                            | (34.039219, -118.236488)   | POINT (-118.2374 34.04652) | \n",
       "| 23660992                   |  480                       | 3/31/2017 23:44            | 3/31/2017 23:52            | 3055                       | 3035                       | 34.04840                   | -118.2609                  | 6478                       |  0                         | One Way                    | Walk-up                    |                            | (34.048401, -118.260948)   | POINT (-118.2516 34.04416) | \n",
       "| 23660993                   |  540                       | 3/31/2017 23:43            | 3/31/2017 23:52            | 3055                       | 3035                       | 34.04840                   | -118.2609                  | 5978                       |  0                         | One Way                    | Walk-up                    |                            | (34.048401, -118.260948)   | POINT (-118.2516 34.04416) | \n",
       "| 23660994                   |  720                       | 3/31/2017 23:41            | 3/31/2017 23:53            | 3055                       | 3035                       | 34.04840                   | -118.2609                  | 6143                       | 30                         | One Way                    | Monthly Pass               |                            | (34.048401, -118.260948)   | POINT (-118.2516 34.04416) | \n",
       "\n",
       "\n"
      ],
      "text/plain": [
       "  Trip.ID  Duration Start.Time      End.Time        Starting.Station.ID\n",
       "1 23660990  420     3/31/2017 23:45 3/31/2017 23:52 3082               \n",
       "2 23664826 1260     3/31/2017 23:45 4/1/2017 0:06   3078               \n",
       "3 23660991  480     3/31/2017 23:44 3/31/2017 23:52 3082               \n",
       "4 23660992  480     3/31/2017 23:44 3/31/2017 23:52 3055               \n",
       "5 23660993  540     3/31/2017 23:43 3/31/2017 23:52 3055               \n",
       "6 23660994  720     3/31/2017 23:41 3/31/2017 23:53 3055               \n",
       "  Ending.Station.ID Ending.Station.Latitude Ending.Station.Longitude Bike.ID\n",
       "1 3054              34.03922                -118.2365                5900   \n",
       "2 3029              34.04885                -118.2464                6207   \n",
       "3 3054              34.03922                -118.2365                6183   \n",
       "4 3035              34.04840                -118.2609                6478   \n",
       "5 3035              34.04840                -118.2609                5978   \n",
       "6 3035              34.04840                -118.2609                6143   \n",
       "  Plan.Duration Trip.Route.Category Passholder.Type Starting.Lat.Long\n",
       "1  0            One Way             Walk-up                          \n",
       "2  0            One Way             Walk-up                          \n",
       "3  0            One Way             Walk-up                          \n",
       "4  0            One Way             Walk-up                          \n",
       "5  0            One Way             Walk-up                          \n",
       "6 30            One Way             Monthly Pass                     \n",
       "  Ending.Lat.Long          geometry                  \n",
       "1 (34.039219, -118.236488) POINT (-118.2374 34.04652)\n",
       "2 (34.048851, -118.246422) POINT (-118.2389 34.06428)\n",
       "3 (34.039219, -118.236488) POINT (-118.2374 34.04652)\n",
       "4 (34.048401, -118.260948) POINT (-118.2516 34.04416)\n",
       "5 (34.048401, -118.260948) POINT (-118.2516 34.04416)\n",
       "6 (34.048401, -118.260948) POINT (-118.2516 34.04416)"
      ]
     },
     "metadata": {},
     "output_type": "display_data"
    }
   ],
   "source": [
    "library(sf)\n",
    "\n",
    "# read in a csv to sf\n",
    "csv = read.csv(\"nb_data/Metro_Bike_Share_Trip_Data.csv\")\n",
    "sfd = st_as_sf(csv, coords=c(\"Starting.Station.Longitude\",\"Starting.Station.Latitude\"), crs=4326)\n",
    "head(sfd)"
   ]
  },
  {
   "cell_type": "code",
   "execution_count": 17,
   "id": "0feb904f-836a-47a7-a02e-fd70bef7044f",
   "metadata": {},
   "outputs": [
    {
     "data": {
      "text/html": [
       "132345"
      ],
      "text/latex": [
       "132345"
      ],
      "text/markdown": [
       "132345"
      ],
      "text/plain": [
       "[1] 132345"
      ]
     },
     "metadata": {},
     "output_type": "display_data"
    },
    {
     "data": {
      "text/html": [
       "15"
      ],
      "text/latex": [
       "15"
      ],
      "text/markdown": [
       "15"
      ],
      "text/plain": [
       "[1] 15"
      ]
     },
     "metadata": {},
     "output_type": "display_data"
    }
   ],
   "source": [
    "nrow(sfd)\n",
    "ncol(sfd)"
   ]
  },
  {
   "cell_type": "code",
   "execution_count": 18,
   "id": "71bdef3a-560d-4410-a65b-6d9ed4b69a7d",
   "metadata": {},
   "outputs": [],
   "source": [
    "# or go straight from csv to ArcGIS data formats!\n",
    "subsetcsv = csv[1:50, 1:14]\n",
    "\n",
    "# write to SHP\n",
    "arc.write(path = \"nb_data/Metro_Bike.shp\", data = subsetcsv,\n",
    "          coords = list(x=subsetcsv$Starting.Station.Longitude,y=subsetcsv$Starting.Station.Latitude),\n",
    "          shape_info = list(type='Point',WKID=4326), overwrite = T)"
   ]
  },
  {
   "cell_type": "code",
   "execution_count": 21,
   "id": "d6f61500-a3fe-4395-ae8c-87141048eec0",
   "metadata": {},
   "outputs": [],
   "source": [
    "#list.files(path = \"nb_data\")"
   ]
  },
  {
   "cell_type": "code",
   "execution_count": 19,
   "id": "ea1030a7-f136-4194-a483-9c7df61bd878",
   "metadata": {},
   "outputs": [],
   "source": [
    "# write to feature class in a file GDB\n",
    "arc.write(path = \"scratchGDB.gdb/Metro_Bike_FC\", data = subsetcsv,\n",
    "          coords = list(x=subsetcsv$Starting.Station.Longitude,y=subsetcsv$Starting.Station.Latitude),\n",
    "          shape_info = list(type='Point',WKID=4326), overwrite = T)"
   ]
  },
  {
   "cell_type": "code",
   "execution_count": null,
   "id": "40c95eee-ada0-4251-a4bd-be3832c3ee97",
   "metadata": {},
   "outputs": [],
   "source": []
  }
 ],
 "metadata": {
  "kernelspec": {
   "display_name": "R",
   "language": "R",
   "name": "ir"
  },
  "language_info": {
   "codemirror_mode": "r",
   "file_extension": ".r",
   "mimetype": "text/x-r-source",
   "name": "R",
   "pygments_lexer": "r",
   "version": "3.5.1"
  }
 },
 "nbformat": 4,
 "nbformat_minor": 5
}
